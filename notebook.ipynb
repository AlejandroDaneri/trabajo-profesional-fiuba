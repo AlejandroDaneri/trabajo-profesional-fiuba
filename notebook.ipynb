{
 "cells": [
  {
   "cell_type": "code",
   "execution_count": 6,
   "id": "0c6859d7",
   "metadata": {},
   "outputs": [],
   "source": [
    "import algo_lib"
   ]
  },
  {
   "cell_type": "code",
   "execution_count": 7,
   "id": "47f4c7d1",
   "metadata": {},
   "outputs": [
    {
     "data": {
      "text/plain": [
       "<function algo_lib.get_prizes_from_binance()>"
      ]
     },
     "execution_count": 7,
     "metadata": {},
     "output_type": "execute_result"
    }
   ],
   "source": [
    "algo_lib.get_prizes_from_binance"
   ]
  },
  {
   "cell_type": "code",
   "execution_count": 5,
   "id": "97996af4",
   "metadata": {},
   "outputs": [
    {
     "data": {
      "text/plain": [
       "'100k'"
      ]
     },
     "execution_count": 5,
     "metadata": {},
     "output_type": "execute_result"
    }
   ],
   "source": [
    "algo_lib.get_prizes_from_binance()"
   ]
  },
  {
   "cell_type": "code",
   "execution_count": null,
   "id": "d6c6bcdb",
   "metadata": {},
   "outputs": [],
   "source": []
  }
 ],
 "metadata": {
  "kernelspec": {
   "display_name": "Python 3 (ipykernel)",
   "language": "python",
   "name": "python3"
  },
  "language_info": {
   "codemirror_mode": {
    "name": "ipython",
    "version": 3
   },
   "file_extension": ".py",
   "mimetype": "text/x-python",
   "name": "python",
   "nbconvert_exporter": "python",
   "pygments_lexer": "ipython3",
   "version": "3.11.5"
  }
 },
 "nbformat": 4,
 "nbformat_minor": 5
}
