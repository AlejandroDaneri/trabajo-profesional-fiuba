{
 "cells": [
  {
   "cell_type": "code",
   "execution_count": 1,
   "id": "0c6859d7",
   "metadata": {},
   "outputs": [
    {
     "name": "stdout",
     "output_type": "stream",
     "text": [
      "Trabajo Profesional | Algo Trading | Libreria\n"
     ]
    }
   ],
   "source": [
    "import algo_lib"
   ]
  },
  {
   "cell_type": "code",
   "execution_count": 3,
   "id": "47f4c7d1",
   "metadata": {},
   "outputs": [
    {
     "data": {
      "text/plain": [
       "<function algo_lib.get_prizes_from_binance()>"
      ]
     },
     "execution_count": 3,
     "metadata": {},
     "output_type": "execute_result"
    }
   ],
   "source": [
    "algo_lib.get_prizes_from_binance"
   ]
  },
  {
   "cell_type": "code",
   "execution_count": 5,
   "id": "97996af4",
   "metadata": {},
   "outputs": [
    {
     "data": {
      "text/plain": [
       "'100k'"
      ]
     },
     "execution_count": 5,
     "metadata": {},
     "output_type": "execute_result"
    }
   ],
   "source": [
    "algo_lib.get_prizes_from_binance()"
   ]
  },
  {
   "cell_type": "code",
   "execution_count": 6,
   "id": "14e982f1",
   "metadata": {},
   "outputs": [
    {
     "data": {
      "text/plain": [
       "<function algo_lib.RSI(data, rounds)>"
      ]
     },
     "execution_count": 6,
     "metadata": {},
     "output_type": "execute_result"
    }
   ],
   "source": [
    "algo_lib.RSI"
   ]
  },
  {
   "cell_type": "code",
   "execution_count": 9,
   "id": "ae97c3ed",
   "metadata": {},
   "outputs": [
    {
     "name": "stdout",
     "output_type": "stream",
     "text": [
      "[*********************100%%**********************]  1 of 1 completed\n"
     ]
    }
   ],
   "source": [
    "import yfinance as yf\n",
    "rounds=14\n",
    "ticker = 'BTC'\n",
    "fast_period , slow_period = 20, 60\n",
    "sigma = 40\n",
    "\n",
    "data = yf.download(ticker, auto_adjust=True, start = '2000-01-01')"
   ]
  },
  {
   "cell_type": "code",
   "execution_count": 10,
   "id": "3f65897e",
   "metadata": {},
   "outputs": [
    {
     "data": {
      "text/html": [
       "<div>\n",
       "<style scoped>\n",
       "    .dataframe tbody tr th:only-of-type {\n",
       "        vertical-align: middle;\n",
       "    }\n",
       "\n",
       "    .dataframe tbody tr th {\n",
       "        vertical-align: top;\n",
       "    }\n",
       "\n",
       "    .dataframe thead th {\n",
       "        text-align: right;\n",
       "    }\n",
       "</style>\n",
       "<table border=\"1\" class=\"dataframe\">\n",
       "  <thead>\n",
       "    <tr style=\"text-align: right;\">\n",
       "      <th></th>\n",
       "      <th>Open</th>\n",
       "      <th>High</th>\n",
       "      <th>Low</th>\n",
       "      <th>Close</th>\n",
       "      <th>Volume</th>\n",
       "    </tr>\n",
       "    <tr>\n",
       "      <th>Date</th>\n",
       "      <th></th>\n",
       "      <th></th>\n",
       "      <th></th>\n",
       "      <th></th>\n",
       "      <th></th>\n",
       "    </tr>\n",
       "  </thead>\n",
       "  <tbody>\n",
       "    <tr>\n",
       "      <th>2020-10-01</th>\n",
       "      <td>96.966400</td>\n",
       "      <td>96.966400</td>\n",
       "      <td>96.966400</td>\n",
       "      <td>96.966400</td>\n",
       "      <td>0</td>\n",
       "    </tr>\n",
       "    <tr>\n",
       "      <th>2020-10-02</th>\n",
       "      <td>96.966400</td>\n",
       "      <td>96.966400</td>\n",
       "      <td>96.966400</td>\n",
       "      <td>96.966400</td>\n",
       "      <td>0</td>\n",
       "    </tr>\n",
       "    <tr>\n",
       "      <th>2020-10-05</th>\n",
       "      <td>96.995490</td>\n",
       "      <td>97.005189</td>\n",
       "      <td>96.961555</td>\n",
       "      <td>96.961555</td>\n",
       "      <td>10725</td>\n",
       "    </tr>\n",
       "    <tr>\n",
       "      <th>2020-10-06</th>\n",
       "      <td>96.976093</td>\n",
       "      <td>96.995483</td>\n",
       "      <td>96.976093</td>\n",
       "      <td>96.995483</td>\n",
       "      <td>10080</td>\n",
       "    </tr>\n",
       "    <tr>\n",
       "      <th>2020-10-07</th>\n",
       "      <td>96.917928</td>\n",
       "      <td>96.927627</td>\n",
       "      <td>96.888840</td>\n",
       "      <td>96.888840</td>\n",
       "      <td>6350</td>\n",
       "    </tr>\n",
       "    <tr>\n",
       "      <th>...</th>\n",
       "      <td>...</td>\n",
       "      <td>...</td>\n",
       "      <td>...</td>\n",
       "      <td>...</td>\n",
       "      <td>...</td>\n",
       "    </tr>\n",
       "    <tr>\n",
       "      <th>2023-10-17</th>\n",
       "      <td>88.690002</td>\n",
       "      <td>88.690002</td>\n",
       "      <td>88.690002</td>\n",
       "      <td>88.690002</td>\n",
       "      <td>144</td>\n",
       "    </tr>\n",
       "    <tr>\n",
       "      <th>2023-10-18</th>\n",
       "      <td>88.494102</td>\n",
       "      <td>88.494102</td>\n",
       "      <td>88.494102</td>\n",
       "      <td>88.494102</td>\n",
       "      <td>3</td>\n",
       "    </tr>\n",
       "    <tr>\n",
       "      <th>2023-10-19</th>\n",
       "      <td>88.430496</td>\n",
       "      <td>88.430496</td>\n",
       "      <td>88.430496</td>\n",
       "      <td>88.430496</td>\n",
       "      <td>100</td>\n",
       "    </tr>\n",
       "    <tr>\n",
       "      <th>2023-10-20</th>\n",
       "      <td>88.699997</td>\n",
       "      <td>88.699997</td>\n",
       "      <td>88.610001</td>\n",
       "      <td>88.694099</td>\n",
       "      <td>328</td>\n",
       "    </tr>\n",
       "    <tr>\n",
       "      <th>2023-10-23</th>\n",
       "      <td>88.881401</td>\n",
       "      <td>88.881401</td>\n",
       "      <td>88.881401</td>\n",
       "      <td>88.881401</td>\n",
       "      <td>17</td>\n",
       "    </tr>\n",
       "  </tbody>\n",
       "</table>\n",
       "<p>770 rows × 5 columns</p>\n",
       "</div>"
      ],
      "text/plain": [
       "                 Open       High        Low      Close  Volume\n",
       "Date                                                          \n",
       "2020-10-01  96.966400  96.966400  96.966400  96.966400       0\n",
       "2020-10-02  96.966400  96.966400  96.966400  96.966400       0\n",
       "2020-10-05  96.995490  97.005189  96.961555  96.961555   10725\n",
       "2020-10-06  96.976093  96.995483  96.976093  96.995483   10080\n",
       "2020-10-07  96.917928  96.927627  96.888840  96.888840    6350\n",
       "...               ...        ...        ...        ...     ...\n",
       "2023-10-17  88.690002  88.690002  88.690002  88.690002     144\n",
       "2023-10-18  88.494102  88.494102  88.494102  88.494102       3\n",
       "2023-10-19  88.430496  88.430496  88.430496  88.430496     100\n",
       "2023-10-20  88.699997  88.699997  88.610001  88.694099     328\n",
       "2023-10-23  88.881401  88.881401  88.881401  88.881401      17\n",
       "\n",
       "[770 rows x 5 columns]"
      ]
     },
     "execution_count": 10,
     "metadata": {},
     "output_type": "execute_result"
    }
   ],
   "source": [
    "data"
   ]
  },
  {
   "cell_type": "code",
   "execution_count": 11,
   "id": "e3dbed05",
   "metadata": {},
   "outputs": [],
   "source": [
    "algo_lib.RSI(data, rounds)"
   ]
  },
  {
   "cell_type": "markdown",
   "id": "3ac36b62",
   "metadata": {},
   "source": [
    "data"
   ]
  }
 ],
 "metadata": {
  "kernelspec": {
   "display_name": "Python 3 (ipykernel)",
   "language": "python",
   "name": "python3"
  },
  "language_info": {
   "codemirror_mode": {
    "name": "ipython",
    "version": 3
   },
   "file_extension": ".py",
   "mimetype": "text/x-python",
   "name": "python",
   "nbconvert_exporter": "python",
   "pygments_lexer": "ipython3",
   "version": "3.11.5"
  }
 },
 "nbformat": 4,
 "nbformat_minor": 5
}
