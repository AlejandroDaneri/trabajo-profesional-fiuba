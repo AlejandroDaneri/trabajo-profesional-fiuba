{
 "cells": [
  {
   "cell_type": "code",
   "execution_count": 1,
   "metadata": {},
   "outputs": [],
   "source": [
    "from lib.indicators.rsi import RSI\n",
    "from lib.indicators.mfi import MFI\n",
    "from lib.indicators.macd import MACD\n",
    "from lib.indicators.nvi import NVI\n",
    "from lib.indicators.koncorde import KONCORDE\n",
    "from lib.indicators.ema import EMA\n",
    "\n",
    "indicators = [\n",
    "    MACD(23,12,9),\n",
    "    RSI(30, 70, 14),\n",
    "    EMA(14),\n",
    "    MFI(20, 80, 14),\n",
    "    NVI(255),\n",
    "    KONCORDE(15)\n",
    "]"
   ]
  },
  {
   "cell_type": "code",
   "execution_count": 2,
   "metadata": {},
   "outputs": [
    {
     "name": "stderr",
     "output_type": "stream",
     "text": [
      "2024-03-19 21:54:51.052409: I tensorflow/core/util/port.cc:113] oneDNN custom operations are on. You may see slightly different numerical results due to floating-point round-off errors from different computation orders. To turn them off, set the environment variable `TF_ENABLE_ONEDNN_OPTS=0`.\n",
      "2024-03-19 21:54:51.054708: I external/local_tsl/tsl/cuda/cudart_stub.cc:31] Could not find cuda drivers on your machine, GPU will not be used.\n",
      "2024-03-19 21:54:51.081994: E external/local_xla/xla/stream_executor/cuda/cuda_dnn.cc:9261] Unable to register cuDNN factory: Attempting to register factory for plugin cuDNN when one has already been registered\n",
      "2024-03-19 21:54:51.082016: E external/local_xla/xla/stream_executor/cuda/cuda_fft.cc:607] Unable to register cuFFT factory: Attempting to register factory for plugin cuFFT when one has already been registered\n",
      "2024-03-19 21:54:51.082709: E external/local_xla/xla/stream_executor/cuda/cuda_blas.cc:1515] Unable to register cuBLAS factory: Attempting to register factory for plugin cuBLAS when one has already been registered\n",
      "2024-03-19 21:54:51.087042: I external/local_tsl/tsl/cuda/cudart_stub.cc:31] Could not find cuda drivers on your machine, GPU will not be used.\n",
      "2024-03-19 21:54:51.087446: I tensorflow/core/platform/cpu_feature_guard.cc:182] This TensorFlow binary is optimized to use available CPU instructions in performance-critical operations.\n",
      "To enable the following instructions: AVX2 AVX512F AVX512_VNNI FMA, in other operations, rebuild TensorFlow with the appropriate compiler flags.\n",
      "2024-03-19 21:54:51.720083: W tensorflow/compiler/tf2tensorrt/utils/py_utils.cc:38] TF-TRT Warning: Could not find TensorRT\n"
     ]
    }
   ],
   "source": [
    "from lib.strategies.RLstrategy import RL"
   ]
  },
  {
   "cell_type": "code",
   "execution_count": 3,
   "metadata": {},
   "outputs": [
    {
     "name": "stdout",
     "output_type": "stream",
     "text": [
      "2.15.0\n"
     ]
    }
   ],
   "source": [
    "strategy = RL(indicators)"
   ]
  },
  {
   "cell_type": "code",
   "execution_count": 4,
   "metadata": {},
   "outputs": [
    {
     "name": "stdout",
     "output_type": "stream",
     "text": [
      "                         Open      High       Low     Close   Volume  \\\n",
      "Date                                                                   \n",
      "2024-03-14 21:00:00  71405.00  71477.72  71405.00  71477.72  0.01212   \n",
      "2024-03-14 21:01:00  71528.42  71528.42  71471.11  71528.33  0.00638   \n",
      "2024-03-14 21:02:00  71462.11  71528.30  71462.11  71528.25  0.00166   \n",
      "2024-03-14 21:03:00  71528.16  71528.16  71469.00  71528.13  0.00061   \n",
      "2024-03-14 21:04:00  71534.99  71564.20  71504.56  71564.17  0.02901   \n",
      "\n",
      "                        Close time Quote asset volume   Number of trades  \\\n",
      "Date                                                                       \n",
      "2024-03-14 21:00:00  1710460859999       865.94345760                  4   \n",
      "2024-03-14 21:01:00  1710460919999       456.34962570                  7   \n",
      "2024-03-14 21:02:00  1710460979999       118.69060540                  9   \n",
      "2024-03-14 21:03:00  1710461039999        43.63098600                  5   \n",
      "2024-03-14 21:04:00  1710461099999      2075.44539100                 17   \n",
      "\n",
      "                     Taker buy base asset volume Taker buy quote asset volume  \\\n",
      "Date                                                                            \n",
      "2024-03-14 21:00:00                   0.00708000                 506.06225760   \n",
      "2024-03-14 21:01:00                   0.00636000                 454.92020350   \n",
      "2024-03-14 21:02:00                   0.00096000                  68.66712840   \n",
      "2024-03-14 21:03:00                   0.00059000                  42.20160600   \n",
      "2024-03-14 21:04:00                   0.02882000                2061.85952460   \n",
      "\n",
      "                    Ignore  \n",
      "Date                        \n",
      "2024-03-14 21:00:00      0  \n",
      "2024-03-14 21:01:00      0  \n",
      "2024-03-14 21:02:00      0  \n",
      "2024-03-14 21:03:00      0  \n",
      "2024-03-14 21:04:00      0  \n",
      "<class 'pandas.core.frame.DataFrame'>\n",
      "Index: 7255 entries, 2024-03-14 21:00:00 to 2024-03-19 21:54:00\n",
      "Data columns (total 11 columns):\n",
      " #   Column                        Non-Null Count  Dtype  \n",
      "---  ------                        --------------  -----  \n",
      " 0   Open                          7255 non-null   float64\n",
      " 1   High                          7255 non-null   float64\n",
      " 2   Low                           7255 non-null   float64\n",
      " 3   Close                         7255 non-null   float64\n",
      " 4   Volume                        7255 non-null   float64\n",
      " 5   Close time                    7255 non-null   int64  \n",
      " 6   Quote asset volume            7255 non-null   object \n",
      " 7    Number of trades             7255 non-null   int64  \n",
      " 8    Taker buy base asset volume  7255 non-null   object \n",
      " 9   Taker buy quote asset volume  7255 non-null   object \n",
      " 10  Ignore                        7255 non-null   object \n",
      "dtypes: float64(5), int64(2), object(4)\n",
      "memory usage: 680.2+ KB\n"
     ]
    }
   ],
   "source": [
    "import yfinance as yf\n",
    "import pandas as pd\n",
    "from datetime import datetime\n",
    "# Binance Client\n",
    "try:\n",
    "  from binance.client import Client as BinanceProvider\n",
    "except ModuleNotFoundError:\n",
    "  !pip install python-binance\n",
    "  from binance.client import Client as BinanceProvider\n",
    "\n",
    "# Define the ticker symbol for Bitcoin (BTC-USD)\n",
    "ticker = \"BTCUSDT\"\n",
    "\n",
    "# Download historical data using yfinance\n",
    "api_key = \"OF6SkzXI0EAcvmMWlkeUKl6YyxYIFU4pN0Bj19gaVYZcgaTt7OImXxEyvoPcDhmk\"\n",
    "secret_key = \"tXay1BDYuSyigxvl27UQIBJbIHADaep8FT7HPO9Mb3vfmcyDkz4keEaHkpm7dcFe\"\n",
    "provider= BinanceProvider(api_key, secret_key, tld='us')\n",
    "\n",
    "klines = provider.get_historical_klines(ticker,BinanceProvider.KLINE_INTERVAL_1MINUTE, \"15 Mar, 2024\")\n",
    "bitcoin_data = pd.DataFrame(klines, columns = [\"Open time\", \"Open\", \"High\", \"Low\", \"Close\", \"Volume\", \"Close time\", \"Quote asset volume\",\" Number of trades\",\" Taker buy base asset volume\", \"Taker buy quote asset volume\", \"Ignore\"])\n",
    "bitcoin_data['Date'] = bitcoin_data['Open time'].apply(lambda x : datetime.fromtimestamp(x / 1000).strftime('%Y-%m-%d %H:%M:%S'))\n",
    "\n",
    "bitcoin_data['Close'] =  bitcoin_data['Close'].apply(lambda x : float(x))\n",
    "bitcoin_data[\"High\"] = bitcoin_data[\"High\"].apply(lambda x: float(x))\n",
    "bitcoin_data[\"Low\"] = bitcoin_data[\"Low\"].apply(lambda x: float(x))\n",
    "bitcoin_data[\"Volume\"] = bitcoin_data[\"Volume\"].apply(lambda x: float(x))\n",
    "bitcoin_data[\"Open\"] = bitcoin_data[\"Open\"].apply(lambda x: float(x))\n",
    "\n",
    "bitcoin_data = bitcoin_data.drop('Open time', axis=1)\n",
    "bitcoin_data = bitcoin_data.set_index(\"Date\")\n",
    "\n",
    "# Display the first few rows of the data\n",
    "print(bitcoin_data.head())\n",
    "bitcoin_data.info()\n"
   ]
  },
  {
   "cell_type": "code",
   "execution_count": 5,
   "metadata": {},
   "outputs": [
    {
     "name": "stdout",
     "output_type": "stream",
     "text": [
      "<class 'pandas.core.frame.DataFrame'>\n",
      "DatetimeIndex: 7255 entries, 2024-03-14 21:00:00 to 2024-03-19 21:54:00\n",
      "Data columns (total 6 columns):\n",
      " #   Column  Non-Null Count  Dtype  \n",
      "---  ------  --------------  -----  \n",
      " 0   Open    7255 non-null   float64\n",
      " 1   High    7255 non-null   float64\n",
      " 2   Low     7255 non-null   float64\n",
      " 3   Close   7255 non-null   float64\n",
      " 4   Volume  7255 non-null   float64\n",
      " 5   r       7254 non-null   float64\n",
      "dtypes: float64(6)\n",
      "memory usage: 396.8 KB\n",
      "<class 'pandas.core.frame.DataFrame'>\n"
     ]
    }
   ],
   "source": [
    "import numpy as np\n",
    "\n",
    "bitcoin_data_subset =  bitcoin_data[[\"Open\", \"High\", \"Low\", \"Close\",\"Volume\"]].copy()\n",
    "bitcoin_data_subset[\"r\"] = np.log(bitcoin_data_subset[\"Close\"] / bitcoin_data_subset[\"Close\"].shift(1))\n",
    "bitcoin_data_subset = bitcoin_data_subset.rename_axis('Date')\n",
    "bitcoin_data_subset.index = pd.to_datetime(bitcoin_data_subset.index)\n",
    "\n",
    "bitcoin_data_subset.info()\n",
    "\n",
    "df_except_last = bitcoin_data_subset.iloc[:-1]\n",
    "\n",
    "# DataFrame con solo la última fila\n",
    "df_last = bitcoin_data_subset.tail(1)\n",
    "print(type(df_last))"
   ]
  },
  {
   "cell_type": "code",
   "execution_count": 6,
   "metadata": {},
   "outputs": [
    {
     "name": "stderr",
     "output_type": "stream",
     "text": [
      "/home/ale/Documentos/trabajo_profesional_algo_trading/algo_trader/lib/strategies/RLstrategy.py:39: SettingWithCopyWarning: \n",
      "A value is trying to be set on a copy of a slice from a DataFrame.\n",
      "Try using .loc[row_indexer,col_indexer] = value instead\n",
      "\n",
      "See the caveats in the documentation: https://pandas.pydata.org/pandas-docs/stable/user_guide/indexing.html#returning-a-view-versus-a-copy\n",
      "  self.data[\"High\"] = self.data[\"High\"].apply(lambda x: float(x))\n",
      "/home/ale/Documentos/trabajo_profesional_algo_trading/algo_trader/lib/strategies/RLstrategy.py:40: SettingWithCopyWarning: \n",
      "A value is trying to be set on a copy of a slice from a DataFrame.\n",
      "Try using .loc[row_indexer,col_indexer] = value instead\n",
      "\n",
      "See the caveats in the documentation: https://pandas.pydata.org/pandas-docs/stable/user_guide/indexing.html#returning-a-view-versus-a-copy\n",
      "  self.data[\"Low\"] = self.data[\"Low\"].apply(lambda x: float(x))\n",
      "/home/ale/Documentos/trabajo_profesional_algo_trading/algo_trader/lib/strategies/RLstrategy.py:41: SettingWithCopyWarning: \n",
      "A value is trying to be set on a copy of a slice from a DataFrame.\n",
      "Try using .loc[row_indexer,col_indexer] = value instead\n",
      "\n",
      "See the caveats in the documentation: https://pandas.pydata.org/pandas-docs/stable/user_guide/indexing.html#returning-a-view-versus-a-copy\n",
      "  self.data[\"Close\"] = self.data[\"Close\"].apply(lambda x: float(x))\n",
      "/home/ale/Documentos/trabajo_profesional_algo_trading/algo_trader/lib/strategies/RLstrategy.py:42: SettingWithCopyWarning: \n",
      "A value is trying to be set on a copy of a slice from a DataFrame.\n",
      "Try using .loc[row_indexer,col_indexer] = value instead\n",
      "\n",
      "See the caveats in the documentation: https://pandas.pydata.org/pandas-docs/stable/user_guide/indexing.html#returning-a-view-versus-a-copy\n",
      "  self.data[\"Volume\"] = self.data[\"Volume\"].apply(lambda x: float(x))\n",
      "/home/ale/Documentos/trabajo_profesional_algo_trading/algo_trader/lib/strategies/RLstrategy.py:43: SettingWithCopyWarning: \n",
      "A value is trying to be set on a copy of a slice from a DataFrame.\n",
      "Try using .loc[row_indexer,col_indexer] = value instead\n",
      "\n",
      "See the caveats in the documentation: https://pandas.pydata.org/pandas-docs/stable/user_guide/indexing.html#returning-a-view-versus-a-copy\n",
      "  self.data[\"Open\"] = self.data[\"Open\"].apply(lambda x: float(x))\n",
      "/home/ale/Documentos/trabajo_profesional_algo_trading/algo_trader/lib/strategies/RLstrategy.py:45: SettingWithCopyWarning: \n",
      "A value is trying to be set on a copy of a slice from a DataFrame.\n",
      "Try using .loc[row_indexer,col_indexer] = value instead\n",
      "\n",
      "See the caveats in the documentation: https://pandas.pydata.org/pandas-docs/stable/user_guide/indexing.html#returning-a-view-versus-a-copy\n",
      "  self.data[\"r\"] = np.log(self.data[\"Close\"] / self.data[\"Close\"].shift(1))\n",
      "/home/ale/Documentos/trabajo_profesional_algo_trading/algo_trader/lib/strategies/RLstrategy.py:47: SettingWithCopyWarning: \n",
      "A value is trying to be set on a copy of a slice from a DataFrame.\n",
      "Try using .loc[row_indexer,col_indexer] = value instead\n",
      "\n",
      "See the caveats in the documentation: https://pandas.pydata.org/pandas-docs/stable/user_guide/indexing.html#returning-a-view-versus-a-copy\n",
      "  self.data[indicator.name] = None\n",
      "/home/ale/Documentos/trabajo_profesional_algo_trading/algo_trader/lib/strategies/RLstrategy.py:49: SettingWithCopyWarning: \n",
      "A value is trying to be set on a copy of a slice from a DataFrame.\n",
      "Try using .loc[row_indexer,col_indexer] = value instead\n",
      "\n",
      "See the caveats in the documentation: https://pandas.pydata.org/pandas-docs/stable/user_guide/indexing.html#returning-a-view-versus-a-copy\n",
      "  self.data[indicator.name] = indicator.generate_signals()\n",
      "/home/ale/Documentos/trabajo_profesional_algo_trading/algo_trader/lib/strategies/RLstrategy.py:47: SettingWithCopyWarning: \n",
      "A value is trying to be set on a copy of a slice from a DataFrame.\n",
      "Try using .loc[row_indexer,col_indexer] = value instead\n",
      "\n",
      "See the caveats in the documentation: https://pandas.pydata.org/pandas-docs/stable/user_guide/indexing.html#returning-a-view-versus-a-copy\n",
      "  self.data[indicator.name] = None\n",
      "/home/ale/Documentos/trabajo_profesional_algo_trading/algo_trader/lib/strategies/RLstrategy.py:49: SettingWithCopyWarning: \n",
      "A value is trying to be set on a copy of a slice from a DataFrame.\n",
      "Try using .loc[row_indexer,col_indexer] = value instead\n",
      "\n",
      "See the caveats in the documentation: https://pandas.pydata.org/pandas-docs/stable/user_guide/indexing.html#returning-a-view-versus-a-copy\n",
      "  self.data[indicator.name] = indicator.generate_signals()\n",
      "/home/ale/Documentos/trabajo_profesional_algo_trading/algo_trader/lib/strategies/RLstrategy.py:47: SettingWithCopyWarning: \n",
      "A value is trying to be set on a copy of a slice from a DataFrame.\n",
      "Try using .loc[row_indexer,col_indexer] = value instead\n",
      "\n",
      "See the caveats in the documentation: https://pandas.pydata.org/pandas-docs/stable/user_guide/indexing.html#returning-a-view-versus-a-copy\n",
      "  self.data[indicator.name] = None\n",
      "/home/ale/Documentos/trabajo_profesional_algo_trading/algo_trader/lib/strategies/RLstrategy.py:49: SettingWithCopyWarning: \n",
      "A value is trying to be set on a copy of a slice from a DataFrame.\n",
      "Try using .loc[row_indexer,col_indexer] = value instead\n",
      "\n",
      "See the caveats in the documentation: https://pandas.pydata.org/pandas-docs/stable/user_guide/indexing.html#returning-a-view-versus-a-copy\n",
      "  self.data[indicator.name] = indicator.generate_signals()\n",
      "/home/ale/Documentos/trabajo_profesional_algo_trading/algo_trader/lib/strategies/RLstrategy.py:47: SettingWithCopyWarning: \n",
      "A value is trying to be set on a copy of a slice from a DataFrame.\n",
      "Try using .loc[row_indexer,col_indexer] = value instead\n",
      "\n",
      "See the caveats in the documentation: https://pandas.pydata.org/pandas-docs/stable/user_guide/indexing.html#returning-a-view-versus-a-copy\n",
      "  self.data[indicator.name] = None\n",
      "/home/ale/Documentos/trabajo_profesional_algo_trading/algo_trader/lib/strategies/RLstrategy.py:49: SettingWithCopyWarning: \n",
      "A value is trying to be set on a copy of a slice from a DataFrame.\n",
      "Try using .loc[row_indexer,col_indexer] = value instead\n",
      "\n",
      "See the caveats in the documentation: https://pandas.pydata.org/pandas-docs/stable/user_guide/indexing.html#returning-a-view-versus-a-copy\n",
      "  self.data[indicator.name] = indicator.generate_signals()\n",
      "/home/ale/Documentos/trabajo_profesional_algo_trading/algo_trader/lib/strategies/RLstrategy.py:47: SettingWithCopyWarning: \n",
      "A value is trying to be set on a copy of a slice from a DataFrame.\n",
      "Try using .loc[row_indexer,col_indexer] = value instead\n",
      "\n",
      "See the caveats in the documentation: https://pandas.pydata.org/pandas-docs/stable/user_guide/indexing.html#returning-a-view-versus-a-copy\n",
      "  self.data[indicator.name] = None\n"
     ]
    }
   ],
   "source": [
    "strategy.prepare_data(df_except_last)"
   ]
  },
  {
   "cell_type": "code",
   "execution_count": 7,
   "metadata": {},
   "outputs": [
    {
     "name": "stdout",
     "output_type": "stream",
     "text": [
      "[MACD] Current value: -14.19\n",
      "[MACD] Signal: 0\n",
      "[RSI] Current value: 60.4550779760368\n",
      "[RSI] Sell Threshold: 70\n",
      "[RSI] Buy Threshold: 30\n",
      "[RSI] Signal: 0\n",
      "[EMA] Current EMA value: 62819.9500751045\n",
      "[EMA] Current Close value: 62965.98\n",
      "[EMA] Signal: 0\n",
      "[MFI] Current value: 11.708188722133002\n",
      "[MFI] Sell Threshold: 80\n",
      "[MFI] Buy Threshold: 20\n",
      "[MFI] Signal: 0\n",
      "[NVI] Current nvi value: 1000.0000950863903\n",
      "[NVI] Current nvi_ema value: 1000.0000871058687\n",
      "[NVI] Signal: 0\n",
      "[KONCORDE] Small hands value: 54.759040006315374\n",
      "[KONCORDE] Big hands value: 52.08416901514219\n",
      "[KONCORDE] Trend value: 55.38840391341764\n",
      "[KONCORDE] Trend avg value: 62.94016401198623\n",
      "[KONCORDE] Signal: 0\n",
      "1/1 [==============================] - 0s 267ms/step\n",
      "signal Action.HOLD\n"
     ]
    },
    {
     "data": {
      "text/plain": [
       "<Action.HOLD: 'hold'>"
      ]
     },
     "execution_count": 7,
     "metadata": {},
     "output_type": "execute_result"
    }
   ],
   "source": [
    "strategy.predict(df_last)"
   ]
  }
 ],
 "metadata": {
  "kernelspec": {
   "display_name": "Python 3 (ipykernel)",
   "language": "python",
   "name": "python3"
  },
  "language_info": {
   "codemirror_mode": {
    "name": "ipython",
    "version": 3
   },
   "file_extension": ".py",
   "mimetype": "text/x-python",
   "name": "python",
   "nbconvert_exporter": "python",
   "pygments_lexer": "ipython3",
   "version": "3.10.13"
  }
 },
 "nbformat": 4,
 "nbformat_minor": 4
}
