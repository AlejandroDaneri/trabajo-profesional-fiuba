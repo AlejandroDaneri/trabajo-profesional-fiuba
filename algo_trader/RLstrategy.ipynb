{
 "cells": [
  {
   "cell_type": "code",
   "execution_count": 1,
   "metadata": {},
   "outputs": [],
   "source": [
    "from lib.indicators.rsi import RSI\n",
    "from lib.indicators.mfi import MFI\n",
    "from lib.indicators.macd import MACD\n",
    "from lib.indicators.nvi import NVI\n",
    "from lib.indicators.koncorde import KONCORDE\n",
    "from lib.indicators.ema import EMA\n",
    "\n",
    "indicators = [\n",
    "    MACD(23,12,9),\n",
    "    RSI(30, 70, 14),\n",
    "    EMA(14),\n",
    "    MFI(20, 80, 14),\n",
    "    NVI(255),\n",
    "    KONCORDE(15)\n",
    "]"
   ]
  },
  {
   "cell_type": "code",
   "execution_count": 2,
   "metadata": {},
   "outputs": [
    {
     "name": "stderr",
     "output_type": "stream",
     "text": [
      "2024-03-17 21:37:59.707221: I tensorflow/core/util/port.cc:113] oneDNN custom operations are on. You may see slightly different numerical results due to floating-point round-off errors from different computation orders. To turn them off, set the environment variable `TF_ENABLE_ONEDNN_OPTS=0`.\n",
      "2024-03-17 21:37:59.709484: I external/local_tsl/tsl/cuda/cudart_stub.cc:31] Could not find cuda drivers on your machine, GPU will not be used.\n",
      "2024-03-17 21:37:59.740311: E external/local_xla/xla/stream_executor/cuda/cuda_dnn.cc:9261] Unable to register cuDNN factory: Attempting to register factory for plugin cuDNN when one has already been registered\n",
      "2024-03-17 21:37:59.740341: E external/local_xla/xla/stream_executor/cuda/cuda_fft.cc:607] Unable to register cuFFT factory: Attempting to register factory for plugin cuFFT when one has already been registered\n",
      "2024-03-17 21:37:59.741109: E external/local_xla/xla/stream_executor/cuda/cuda_blas.cc:1515] Unable to register cuBLAS factory: Attempting to register factory for plugin cuBLAS when one has already been registered\n",
      "2024-03-17 21:37:59.746185: I external/local_tsl/tsl/cuda/cudart_stub.cc:31] Could not find cuda drivers on your machine, GPU will not be used.\n",
      "2024-03-17 21:37:59.746628: I tensorflow/core/platform/cpu_feature_guard.cc:182] This TensorFlow binary is optimized to use available CPU instructions in performance-critical operations.\n",
      "To enable the following instructions: AVX2 AVX512F AVX512_VNNI FMA, in other operations, rebuild TensorFlow with the appropriate compiler flags.\n",
      "2024-03-17 21:38:00.447837: W tensorflow/compiler/tf2tensorrt/utils/py_utils.cc:38] TF-TRT Warning: Could not find TensorRT\n"
     ]
    }
   ],
   "source": [
    "from lib.strategies.RLstrategy import RL"
   ]
  },
  {
   "cell_type": "code",
   "execution_count": 3,
   "metadata": {},
   "outputs": [
    {
     "name": "stdout",
     "output_type": "stream",
     "text": [
      "2.15.0\n"
     ]
    }
   ],
   "source": [
    "strategy = RL(indicators)"
   ]
  },
  {
   "cell_type": "code",
   "execution_count": 4,
   "metadata": {},
   "outputs": [
    {
     "name": "stdout",
     "output_type": "stream",
     "text": [
      "                               Open            High             Low     Close  \\\n",
      "Date                                                                            \n",
      "2024-03-14 21:00:00  71405.00000000  71477.72000000  71405.00000000  71477.72   \n",
      "2024-03-14 21:01:00  71528.42000000  71528.42000000  71471.11000000  71528.33   \n",
      "2024-03-14 21:02:00  71462.11000000  71528.30000000  71462.11000000  71528.25   \n",
      "2024-03-14 21:03:00  71528.16000000  71528.16000000  71469.00000000  71528.13   \n",
      "2024-03-14 21:04:00  71534.99000000  71564.20000000  71504.56000000  71564.17   \n",
      "\n",
      "                         Volume     Close time Quote asset volume  \\\n",
      "Date                                                                \n",
      "2024-03-14 21:00:00  0.01212000  1710460859999       865.94345760   \n",
      "2024-03-14 21:01:00  0.00638000  1710460919999       456.34962570   \n",
      "2024-03-14 21:02:00  0.00166000  1710460979999       118.69060540   \n",
      "2024-03-14 21:03:00  0.00061000  1710461039999        43.63098600   \n",
      "2024-03-14 21:04:00  0.02901000  1710461099999      2075.44539100   \n",
      "\n",
      "                      Number of trades  Taker buy base asset volume  \\\n",
      "Date                                                                  \n",
      "2024-03-14 21:00:00                  4                   0.00708000   \n",
      "2024-03-14 21:01:00                  7                   0.00636000   \n",
      "2024-03-14 21:02:00                  9                   0.00096000   \n",
      "2024-03-14 21:03:00                  5                   0.00059000   \n",
      "2024-03-14 21:04:00                 17                   0.02882000   \n",
      "\n",
      "                    Taker buy quote asset volume Ignore  \n",
      "Date                                                     \n",
      "2024-03-14 21:00:00                 506.06225760      0  \n",
      "2024-03-14 21:01:00                 454.92020350      0  \n",
      "2024-03-14 21:02:00                  68.66712840      0  \n",
      "2024-03-14 21:03:00                  42.20160600      0  \n",
      "2024-03-14 21:04:00                2061.85952460      0  \n",
      "<class 'pandas.core.frame.DataFrame'>\n",
      "Index: 4359 entries, 2024-03-14 21:00:00 to 2024-03-17 21:38:00\n",
      "Data columns (total 11 columns):\n",
      " #   Column                        Non-Null Count  Dtype  \n",
      "---  ------                        --------------  -----  \n",
      " 0   Open                          4359 non-null   object \n",
      " 1   High                          4359 non-null   object \n",
      " 2   Low                           4359 non-null   object \n",
      " 3   Close                         4359 non-null   float64\n",
      " 4   Volume                        4359 non-null   object \n",
      " 5   Close time                    4359 non-null   int64  \n",
      " 6   Quote asset volume            4359 non-null   object \n",
      " 7    Number of trades             4359 non-null   int64  \n",
      " 8    Taker buy base asset volume  4359 non-null   object \n",
      " 9   Taker buy quote asset volume  4359 non-null   object \n",
      " 10  Ignore                        4359 non-null   object \n",
      "dtypes: float64(1), int64(2), object(8)\n",
      "memory usage: 408.7+ KB\n"
     ]
    }
   ],
   "source": [
    "import yfinance as yf\n",
    "import pandas as pd\n",
    "from datetime import datetime\n",
    "# Binance Client\n",
    "try:\n",
    "  from binance.client import Client as BinanceProvider\n",
    "except ModuleNotFoundError:\n",
    "  !pip install python-binance\n",
    "  from binance.client import Client as BinanceProvider\n",
    "\n",
    "# Define the ticker symbol for Bitcoin (BTC-USD)\n",
    "ticker = \"BTCUSDT\"\n",
    "\n",
    "# Download historical data using yfinance\n",
    "api_key = \"OF6SkzXI0EAcvmMWlkeUKl6YyxYIFU4pN0Bj19gaVYZcgaTt7OImXxEyvoPcDhmk\"\n",
    "secret_key = \"tXay1BDYuSyigxvl27UQIBJbIHADaep8FT7HPO9Mb3vfmcyDkz4keEaHkpm7dcFe\"\n",
    "provider= BinanceProvider(api_key, secret_key, tld='us')\n",
    "\n",
    "klines = provider.get_historical_klines(ticker,BinanceProvider.KLINE_INTERVAL_1MINUTE, \"15 Mar, 2024\")\n",
    "bitcoin_data = pd.DataFrame(klines, columns = [\"Open time\", \"Open\", \"High\", \"Low\", \"Close\", \"Volume\", \"Close time\", \"Quote asset volume\",\" Number of trades\",\" Taker buy base asset volume\", \"Taker buy quote asset volume\", \"Ignore\"])\n",
    "bitcoin_data['Date'] = bitcoin_data['Open time'].apply(lambda x : datetime.fromtimestamp(x / 1000).strftime('%Y-%m-%d %H:%M:%S'))\n",
    "bitcoin_data['Close'] =  bitcoin_data['Close'].apply(lambda x : float(x))\n",
    "\n",
    "bitcoin_data = bitcoin_data.drop('Open time', axis=1)\n",
    "bitcoin_data = bitcoin_data.set_index(\"Date\")\n",
    "\n",
    "# Display the first few rows of the data\n",
    "print(bitcoin_data.head())\n",
    "bitcoin_data.info()\n"
   ]
  },
  {
   "cell_type": "code",
   "execution_count": 5,
   "metadata": {},
   "outputs": [
    {
     "name": "stdout",
     "output_type": "stream",
     "text": [
      "<class 'pandas.core.frame.DataFrame'>\n",
      "DatetimeIndex: 4359 entries, 2024-03-14 21:00:00 to 2024-03-17 21:38:00\n",
      "Data columns (total 6 columns):\n",
      " #   Column  Non-Null Count  Dtype  \n",
      "---  ------  --------------  -----  \n",
      " 0   Open    4359 non-null   object \n",
      " 1   High    4359 non-null   object \n",
      " 2   Low     4359 non-null   object \n",
      " 3   Close   4359 non-null   float64\n",
      " 4   Volume  4359 non-null   object \n",
      " 5   r       4358 non-null   float64\n",
      "dtypes: float64(2), object(4)\n",
      "memory usage: 238.4+ KB\n"
     ]
    }
   ],
   "source": [
    "import numpy as np\n",
    "\n",
    "bitcoin_data_subset =  bitcoin_data[[\"Open\", \"High\", \"Low\", \"Close\",\"Volume\"]].copy()\n",
    "bitcoin_data_subset[\"r\"] = np.log(bitcoin_data_subset[\"Close\"] / bitcoin_data_subset[\"Close\"].shift(1))\n",
    "bitcoin_data_subset = bitcoin_data_subset.rename_axis('Date')\n",
    "bitcoin_data_subset.index = pd.to_datetime(bitcoin_data_subset.index)\n",
    "\n",
    "bitcoin_data_subset.info()\n",
    "\n",
    "df_except_last = bitcoin_data_subset.iloc[:-1]\n",
    "\n",
    "# DataFrame con solo la última fila\n",
    "df_last = bitcoin_data_subset.iloc[-1]"
   ]
  },
  {
   "cell_type": "code",
   "execution_count": 6,
   "metadata": {},
   "outputs": [
    {
     "name": "stderr",
     "output_type": "stream",
     "text": [
      "/home/ale/Documentos/trabajo_profesional_algo_trading/algo_trader/lib/strategies/RLstrategy.py:36: SettingWithCopyWarning: \n",
      "A value is trying to be set on a copy of a slice from a DataFrame.\n",
      "Try using .loc[row_indexer,col_indexer] = value instead\n",
      "\n",
      "See the caveats in the documentation: https://pandas.pydata.org/pandas-docs/stable/user_guide/indexing.html#returning-a-view-versus-a-copy\n",
      "  self.data[\"High\"] = self.data[\"High\"].apply(lambda x: float(x))\n",
      "/home/ale/Documentos/trabajo_profesional_algo_trading/algo_trader/lib/strategies/RLstrategy.py:37: SettingWithCopyWarning: \n",
      "A value is trying to be set on a copy of a slice from a DataFrame.\n",
      "Try using .loc[row_indexer,col_indexer] = value instead\n",
      "\n",
      "See the caveats in the documentation: https://pandas.pydata.org/pandas-docs/stable/user_guide/indexing.html#returning-a-view-versus-a-copy\n",
      "  self.data[\"Low\"] = self.data[\"Low\"].apply(lambda x: float(x))\n",
      "/home/ale/Documentos/trabajo_profesional_algo_trading/algo_trader/lib/strategies/RLstrategy.py:38: SettingWithCopyWarning: \n",
      "A value is trying to be set on a copy of a slice from a DataFrame.\n",
      "Try using .loc[row_indexer,col_indexer] = value instead\n",
      "\n",
      "See the caveats in the documentation: https://pandas.pydata.org/pandas-docs/stable/user_guide/indexing.html#returning-a-view-versus-a-copy\n",
      "  self.data[\"Close\"] = self.data[\"Close\"].apply(lambda x: float(x))\n",
      "/home/ale/Documentos/trabajo_profesional_algo_trading/algo_trader/lib/strategies/RLstrategy.py:39: SettingWithCopyWarning: \n",
      "A value is trying to be set on a copy of a slice from a DataFrame.\n",
      "Try using .loc[row_indexer,col_indexer] = value instead\n",
      "\n",
      "See the caveats in the documentation: https://pandas.pydata.org/pandas-docs/stable/user_guide/indexing.html#returning-a-view-versus-a-copy\n",
      "  self.data[\"Volume\"] = self.data[\"Volume\"].apply(lambda x: float(x))\n",
      "/home/ale/Documentos/trabajo_profesional_algo_trading/algo_trader/lib/strategies/RLstrategy.py:40: SettingWithCopyWarning: \n",
      "A value is trying to be set on a copy of a slice from a DataFrame.\n",
      "Try using .loc[row_indexer,col_indexer] = value instead\n",
      "\n",
      "See the caveats in the documentation: https://pandas.pydata.org/pandas-docs/stable/user_guide/indexing.html#returning-a-view-versus-a-copy\n",
      "  self.data[\"Open\"] = self.data[\"Open\"].apply(lambda x: float(x))\n",
      "/home/ale/Documentos/trabajo_profesional_algo_trading/algo_trader/lib/strategies/RLstrategy.py:42: SettingWithCopyWarning: \n",
      "A value is trying to be set on a copy of a slice from a DataFrame.\n",
      "Try using .loc[row_indexer,col_indexer] = value instead\n",
      "\n",
      "See the caveats in the documentation: https://pandas.pydata.org/pandas-docs/stable/user_guide/indexing.html#returning-a-view-versus-a-copy\n",
      "  self.data[\"r\"] = np.log(self.data[\"Close\"] / self.data[\"Close\"].shift(1))\n",
      "/home/ale/Documentos/trabajo_profesional_algo_trading/algo_trader/lib/strategies/RLstrategy.py:44: SettingWithCopyWarning: \n",
      "A value is trying to be set on a copy of a slice from a DataFrame.\n",
      "Try using .loc[row_indexer,col_indexer] = value instead\n",
      "\n",
      "See the caveats in the documentation: https://pandas.pydata.org/pandas-docs/stable/user_guide/indexing.html#returning-a-view-versus-a-copy\n",
      "  self.data[indicator.name] = None\n",
      "/home/ale/Documentos/trabajo_profesional_algo_trading/algo_trader/lib/strategies/RLstrategy.py:46: SettingWithCopyWarning: \n",
      "A value is trying to be set on a copy of a slice from a DataFrame.\n",
      "Try using .loc[row_indexer,col_indexer] = value instead\n",
      "\n",
      "See the caveats in the documentation: https://pandas.pydata.org/pandas-docs/stable/user_guide/indexing.html#returning-a-view-versus-a-copy\n",
      "  self.data[indicator.name] = indicator.generate_signals()\n",
      "/home/ale/Documentos/trabajo_profesional_algo_trading/algo_trader/lib/strategies/RLstrategy.py:44: SettingWithCopyWarning: \n",
      "A value is trying to be set on a copy of a slice from a DataFrame.\n",
      "Try using .loc[row_indexer,col_indexer] = value instead\n",
      "\n",
      "See the caveats in the documentation: https://pandas.pydata.org/pandas-docs/stable/user_guide/indexing.html#returning-a-view-versus-a-copy\n",
      "  self.data[indicator.name] = None\n",
      "/home/ale/Documentos/trabajo_profesional_algo_trading/algo_trader/lib/strategies/RLstrategy.py:46: SettingWithCopyWarning: \n",
      "A value is trying to be set on a copy of a slice from a DataFrame.\n",
      "Try using .loc[row_indexer,col_indexer] = value instead\n",
      "\n",
      "See the caveats in the documentation: https://pandas.pydata.org/pandas-docs/stable/user_guide/indexing.html#returning-a-view-versus-a-copy\n",
      "  self.data[indicator.name] = indicator.generate_signals()\n",
      "/home/ale/Documentos/trabajo_profesional_algo_trading/algo_trader/lib/strategies/RLstrategy.py:44: SettingWithCopyWarning: \n",
      "A value is trying to be set on a copy of a slice from a DataFrame.\n",
      "Try using .loc[row_indexer,col_indexer] = value instead\n",
      "\n",
      "See the caveats in the documentation: https://pandas.pydata.org/pandas-docs/stable/user_guide/indexing.html#returning-a-view-versus-a-copy\n",
      "  self.data[indicator.name] = None\n",
      "/home/ale/Documentos/trabajo_profesional_algo_trading/algo_trader/lib/strategies/RLstrategy.py:46: SettingWithCopyWarning: \n",
      "A value is trying to be set on a copy of a slice from a DataFrame.\n",
      "Try using .loc[row_indexer,col_indexer] = value instead\n",
      "\n",
      "See the caveats in the documentation: https://pandas.pydata.org/pandas-docs/stable/user_guide/indexing.html#returning-a-view-versus-a-copy\n",
      "  self.data[indicator.name] = indicator.generate_signals()\n",
      "/home/ale/Documentos/trabajo_profesional_algo_trading/algo_trader/lib/strategies/RLstrategy.py:44: SettingWithCopyWarning: \n",
      "A value is trying to be set on a copy of a slice from a DataFrame.\n",
      "Try using .loc[row_indexer,col_indexer] = value instead\n",
      "\n",
      "See the caveats in the documentation: https://pandas.pydata.org/pandas-docs/stable/user_guide/indexing.html#returning-a-view-versus-a-copy\n",
      "  self.data[indicator.name] = None\n",
      "/home/ale/Documentos/trabajo_profesional_algo_trading/algo_trader/lib/strategies/RLstrategy.py:46: SettingWithCopyWarning: \n",
      "A value is trying to be set on a copy of a slice from a DataFrame.\n",
      "Try using .loc[row_indexer,col_indexer] = value instead\n",
      "\n",
      "See the caveats in the documentation: https://pandas.pydata.org/pandas-docs/stable/user_guide/indexing.html#returning-a-view-versus-a-copy\n",
      "  self.data[indicator.name] = indicator.generate_signals()\n",
      "/home/ale/Documentos/trabajo_profesional_algo_trading/algo_trader/lib/strategies/RLstrategy.py:44: SettingWithCopyWarning: \n",
      "A value is trying to be set on a copy of a slice from a DataFrame.\n",
      "Try using .loc[row_indexer,col_indexer] = value instead\n",
      "\n",
      "See the caveats in the documentation: https://pandas.pydata.org/pandas-docs/stable/user_guide/indexing.html#returning-a-view-versus-a-copy\n",
      "  self.data[indicator.name] = None\n"
     ]
    }
   ],
   "source": [
    "strategy.prepare_data(df_except_last)"
   ]
  },
  {
   "cell_type": "code",
   "execution_count": 7,
   "metadata": {},
   "outputs": [
    {
     "name": "stdout",
     "output_type": "stream",
     "text": [
      "[MACD] Current value: -26.44\n",
      "[MACD] Signal: 0\n",
      "[RSI] Current value: 30.7240568800635\n",
      "[RSI] Sell Threshold: 70\n",
      "[RSI] Buy Threshold: 30\n",
      "[RSI] Signal: 0\n",
      "[EMA] Current EMA value: 67816.70727669005\n",
      "[EMA] Current Close value: nan\n",
      "[EMA] Signal: 0\n",
      "[MFI] Current value: 19.18500972061628\n",
      "[MFI] Sell Threshold: 80\n",
      "[MFI] Buy Threshold: 20\n",
      "[MFI] Signal: 0\n",
      "[NVI] Current nvi value: 1000.000019911659\n",
      "[NVI] Current nvi_ema value: 1000.0000273885878\n",
      "[NVI] Signal: 0\n",
      "[KONCORDE] Small hands value: nan\n",
      "[KONCORDE] Big hands value: -2.673355416554741\n",
      "[KONCORDE] Trend value: nan\n",
      "[KONCORDE] Trend avg value: 12.71927926531876\n",
      "[KONCORDE] Signal: 0\n",
      "1/1 [==============================] - 0s 152ms/step\n",
      "signal Action.HOLD\n"
     ]
    },
    {
     "data": {
      "text/plain": [
       "<Action.HOLD: 'hold'>"
      ]
     },
     "execution_count": 7,
     "metadata": {},
     "output_type": "execute_result"
    }
   ],
   "source": [
    "strategy.predict(df_last)"
   ]
  }
 ],
 "metadata": {
  "kernelspec": {
   "display_name": "Python 3 (ipykernel)",
   "language": "python",
   "name": "python3"
  },
  "language_info": {
   "codemirror_mode": {
    "name": "ipython",
    "version": 3
   },
   "file_extension": ".py",
   "mimetype": "text/x-python",
   "name": "python",
   "nbconvert_exporter": "python",
   "pygments_lexer": "ipython3",
   "version": "3.10.13"
  }
 },
 "nbformat": 4,
 "nbformat_minor": 4
}
