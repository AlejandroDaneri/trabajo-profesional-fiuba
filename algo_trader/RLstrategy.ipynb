{
 "cells": [
  {
   "cell_type": "code",
   "execution_count": 1,
   "metadata": {},
   "outputs": [],
   "source": [
    "from lib.indicators.rsi import RSI\n",
    "from lib.indicators.mfi import MFI\n",
    "from lib.indicators.macd import MACD\n",
    "from lib.indicators.nvi import NVI\n",
    "from lib.indicators.koncorde import KONCORDE\n",
    "from lib.indicators.ema import EMA\n",
    "\n",
    "indicators = [\n",
    "    MACD(23,12,9),\n",
    "    RSI(30, 70, 14),\n",
    "    EMA(14),\n",
    "    MFI(20, 80, 14),\n",
    "    NVI(255),\n",
    "    KONCORDE(15)\n",
    "]"
   ]
  },
  {
   "cell_type": "code",
   "execution_count": 2,
   "metadata": {},
   "outputs": [
    {
     "name": "stderr",
     "output_type": "stream",
     "text": [
      "2024-03-25 12:07:57.056125: I tensorflow/core/util/port.cc:113] oneDNN custom operations are on. You may see slightly different numerical results due to floating-point round-off errors from different computation orders. To turn them off, set the environment variable `TF_ENABLE_ONEDNN_OPTS=0`.\n",
      "2024-03-25 12:07:57.123575: I external/local_tsl/tsl/cuda/cudart_stub.cc:31] Could not find cuda drivers on your machine, GPU will not be used.\n",
      "2024-03-25 12:07:57.417395: E external/local_xla/xla/stream_executor/cuda/cuda_dnn.cc:9261] Unable to register cuDNN factory: Attempting to register factory for plugin cuDNN when one has already been registered\n",
      "2024-03-25 12:07:57.417443: E external/local_xla/xla/stream_executor/cuda/cuda_fft.cc:607] Unable to register cuFFT factory: Attempting to register factory for plugin cuFFT when one has already been registered\n",
      "2024-03-25 12:07:57.473618: E external/local_xla/xla/stream_executor/cuda/cuda_blas.cc:1515] Unable to register cuBLAS factory: Attempting to register factory for plugin cuBLAS when one has already been registered\n",
      "2024-03-25 12:07:57.601535: I external/local_tsl/tsl/cuda/cudart_stub.cc:31] Could not find cuda drivers on your machine, GPU will not be used.\n",
      "2024-03-25 12:07:57.603643: I tensorflow/core/platform/cpu_feature_guard.cc:182] This TensorFlow binary is optimized to use available CPU instructions in performance-critical operations.\n",
      "To enable the following instructions: AVX2 AVX512F AVX512_VNNI FMA, in other operations, rebuild TensorFlow with the appropriate compiler flags.\n",
      "2024-03-25 12:07:58.630930: W tensorflow/compiler/tf2tensorrt/utils/py_utils.cc:38] TF-TRT Warning: Could not find TensorRT\n"
     ]
    }
   ],
   "source": [
    "from lib.strategies.RLstrategy import RL"
   ]
  },
  {
   "cell_type": "markdown",
   "metadata": {},
   "source": [
    "Necesitamos tener cargado el model_info.csv y la carpeta model con el modelo de Keras en el Root de algo_trader"
   ]
  },
  {
   "cell_type": "code",
   "execution_count": 3,
   "metadata": {},
   "outputs": [
    {
     "name": "stdout",
     "output_type": "stream",
     "text": [
      "2.15.0\n"
     ]
    }
   ],
   "source": [
    "strategy = RL(indicators)"
   ]
  },
  {
   "cell_type": "code",
   "execution_count": 4,
   "metadata": {},
   "outputs": [
    {
     "name": "stdout",
     "output_type": "stream",
     "text": [
      "                         Open      High       Low     Close   Volume  \\\n",
      "Date                                                                   \n",
      "2024-03-22 21:00:00  63811.05  63834.63  63716.12  63816.47  0.19647   \n",
      "2024-03-22 21:01:00  63670.83  63816.42  63670.83  63781.04  0.01215   \n",
      "2024-03-22 21:02:00  63781.05  63781.07  63752.88  63752.89  0.08443   \n",
      "2024-03-22 21:03:00  63655.96  63781.04  63655.96  63697.74  0.15912   \n",
      "2024-03-22 21:04:00  63782.00  63810.98  63782.00  63810.98  0.06617   \n",
      "\n",
      "                        Close time Quote asset volume   Number of trades  \\\n",
      "Date                                                                       \n",
      "2024-03-22 21:00:00  1711152059999     12536.99390710                 21   \n",
      "2024-03-22 21:01:00  1711152119999       773.67209910                  7   \n",
      "2024-03-22 21:02:00  1711152179999      5384.95593900                 11   \n",
      "2024-03-22 21:03:00  1711152239999     10135.66263490                  8   \n",
      "2024-03-22 21:04:00  1711152299999      4220.50941530                  5   \n",
      "\n",
      "                     Taker buy base asset volume Taker buy quote asset volume  \\\n",
      "Date                                                                            \n",
      "2024-03-22 21:00:00                   0.01190000                 759.53792010   \n",
      "2024-03-22 21:01:00                   0.00060000                  38.27393850   \n",
      "2024-03-22 21:02:00                   0.08443000                5384.95593900   \n",
      "2024-03-22 21:03:00                   0.00122000                  77.79084890   \n",
      "2024-03-22 21:04:00                   0.06617000                4220.50941530   \n",
      "\n",
      "                    Ignore  \n",
      "Date                        \n",
      "2024-03-22 21:00:00      0  \n",
      "2024-03-22 21:01:00      0  \n",
      "2024-03-22 21:02:00      0  \n",
      "2024-03-22 21:03:00      0  \n",
      "2024-03-22 21:04:00      0  \n",
      "<class 'pandas.core.frame.DataFrame'>\n",
      "Index: 3789 entries, 2024-03-22 21:00:00 to 2024-03-25 12:08:00\n",
      "Data columns (total 11 columns):\n",
      " #   Column                        Non-Null Count  Dtype  \n",
      "---  ------                        --------------  -----  \n",
      " 0   Open                          3789 non-null   float64\n",
      " 1   High                          3789 non-null   float64\n",
      " 2   Low                           3789 non-null   float64\n",
      " 3   Close                         3789 non-null   float64\n",
      " 4   Volume                        3789 non-null   float64\n",
      " 5   Close time                    3789 non-null   int64  \n",
      " 6   Quote asset volume            3789 non-null   object \n",
      " 7    Number of trades             3789 non-null   int64  \n",
      " 8    Taker buy base asset volume  3789 non-null   object \n",
      " 9   Taker buy quote asset volume  3789 non-null   object \n",
      " 10  Ignore                        3789 non-null   object \n",
      "dtypes: float64(5), int64(2), object(4)\n",
      "memory usage: 355.2+ KB\n"
     ]
    }
   ],
   "source": [
    "import yfinance as yf\n",
    "import pandas as pd\n",
    "from datetime import datetime\n",
    "# Binance Client\n",
    "try:\n",
    "  from binance.client import Client as BinanceProvider\n",
    "except ModuleNotFoundError:\n",
    "  !pip install python-binance\n",
    "  from binance.client import Client as BinanceProvider\n",
    "\n",
    "# Define the ticker symbol for Bitcoin (BTC-USD)\n",
    "ticker = \"BTCUSDT\"\n",
    "\n",
    "# Download historical data using yfinance\n",
    "api_key = \"OF6SkzXI0EAcvmMWlkeUKl6YyxYIFU4pN0Bj19gaVYZcgaTt7OImXxEyvoPcDhmk\"\n",
    "secret_key = \"tXay1BDYuSyigxvl27UQIBJbIHADaep8FT7HPO9Mb3vfmcyDkz4keEaHkpm7dcFe\"\n",
    "provider= BinanceProvider(api_key, secret_key, tld='us')\n",
    "\n",
    "klines = provider.get_historical_klines(ticker,BinanceProvider.KLINE_INTERVAL_1MINUTE, \"23 Mar, 2024\")\n",
    "bitcoin_data = pd.DataFrame(klines, columns = [\"Open time\", \"Open\", \"High\", \"Low\", \"Close\", \"Volume\", \"Close time\", \"Quote asset volume\",\" Number of trades\",\" Taker buy base asset volume\", \"Taker buy quote asset volume\", \"Ignore\"])\n",
    "bitcoin_data['Date'] = bitcoin_data['Open time'].apply(lambda x : datetime.fromtimestamp(x / 1000).strftime('%Y-%m-%d %H:%M:%S'))\n",
    "\n",
    "bitcoin_data['Close'] =  bitcoin_data['Close'].apply(lambda x : float(x))\n",
    "bitcoin_data[\"High\"] = bitcoin_data[\"High\"].apply(lambda x: float(x))\n",
    "bitcoin_data[\"Low\"] = bitcoin_data[\"Low\"].apply(lambda x: float(x))\n",
    "bitcoin_data[\"Volume\"] = bitcoin_data[\"Volume\"].apply(lambda x: float(x))\n",
    "bitcoin_data[\"Open\"] = bitcoin_data[\"Open\"].apply(lambda x: float(x))\n",
    "\n",
    "bitcoin_data = bitcoin_data.drop('Open time', axis=1)\n",
    "bitcoin_data = bitcoin_data.set_index(\"Date\")\n",
    "\n",
    "# Display the first few rows of the data\n",
    "print(bitcoin_data.head())\n",
    "bitcoin_data.info()\n"
   ]
  },
  {
   "cell_type": "code",
   "execution_count": 5,
   "metadata": {},
   "outputs": [
    {
     "name": "stdout",
     "output_type": "stream",
     "text": [
      "<class 'pandas.core.frame.DataFrame'>\n",
      "DatetimeIndex: 3789 entries, 2024-03-22 21:00:00 to 2024-03-25 12:08:00\n",
      "Data columns (total 6 columns):\n",
      " #   Column  Non-Null Count  Dtype  \n",
      "---  ------  --------------  -----  \n",
      " 0   Open    3789 non-null   float64\n",
      " 1   High    3789 non-null   float64\n",
      " 2   Low     3789 non-null   float64\n",
      " 3   Close   3789 non-null   float64\n",
      " 4   Volume  3789 non-null   float64\n",
      " 5   r       3788 non-null   float64\n",
      "dtypes: float64(6)\n",
      "memory usage: 207.2 KB\n",
      "<class 'pandas.core.frame.DataFrame'>\n"
     ]
    }
   ],
   "source": [
    "import numpy as np\n",
    "\n",
    "bitcoin_data_subset =  bitcoin_data[[\"Open\", \"High\", \"Low\", \"Close\",\"Volume\"]].copy()\n",
    "bitcoin_data_subset[\"r\"] = np.log(bitcoin_data_subset[\"Close\"] / bitcoin_data_subset[\"Close\"].shift(1))\n",
    "bitcoin_data_subset = bitcoin_data_subset.rename_axis('Date')\n",
    "bitcoin_data_subset.index = pd.to_datetime(bitcoin_data_subset.index)\n",
    "\n",
    "bitcoin_data_subset.info()\n",
    "\n",
    "df_except_last = bitcoin_data_subset.iloc[:-1]\n",
    "\n",
    "# DataFrame con solo la última fila\n",
    "df_last = bitcoin_data_subset.tail(1)\n",
    "print(type(df_last))"
   ]
  },
  {
   "cell_type": "code",
   "execution_count": 6,
   "metadata": {},
   "outputs": [],
   "source": [
    "strategy.prepare_data(df_except_last)"
   ]
  },
  {
   "cell_type": "code",
   "execution_count": 7,
   "metadata": {},
   "outputs": [
    {
     "name": "stdout",
     "output_type": "stream",
     "text": [
      "[MACD] Current value: 14.29\n",
      "[MACD] Signal: 0\n",
      "[Indicator | RSI] Current value: 61.401181479664146\n",
      "[Indicator | RSI] Sell Threshold: 70\n",
      "[Indicator | RSI] Buy Threshold: 30\n",
      "[Indicator | RSI] Signal: 0\n",
      "[EMA] Current EMA value: 69440.02191941699\n",
      "[EMA] Current Close value: 69557.51\n",
      "[EMA] Signal: 0\n",
      "[MFI] Current value: 60.58357978336015\n",
      "[MFI] Sell Threshold: 80\n",
      "[MFI] Buy Threshold: 20\n",
      "[MFI] Signal: 0\n",
      "[NVI] Current nvi value: 1000.0000034564845\n",
      "[NVI] Current nvi_ema value: 1000.0000026508621\n",
      "[NVI] Signal: 0\n",
      "[KONCORDE] Small hands value: 93.47202975787012\n",
      "[KONCORDE] Big hands value: 38.495810958959225\n",
      "[KONCORDE] Trend value: 93.34385925868547\n",
      "[KONCORDE] Trend avg value: 100.38155030430157\n",
      "[KONCORDE] Signal: 0\n",
      "1/1 [==============================] - 0s 221ms/step\n",
      "signal Action.BUY\n"
     ]
    },
    {
     "data": {
      "text/plain": [
       "<Action.BUY: 'buy'>"
      ]
     },
     "execution_count": 7,
     "metadata": {},
     "output_type": "execute_result"
    }
   ],
   "source": [
    "strategy.predict(df_last)"
   ]
  }
 ],
 "metadata": {
  "kernelspec": {
   "display_name": "Python 3 (ipykernel)",
   "language": "python",
   "name": "python3"
  },
  "language_info": {
   "codemirror_mode": {
    "name": "ipython",
    "version": 3
   },
   "file_extension": ".py",
   "mimetype": "text/x-python",
   "name": "python",
   "nbconvert_exporter": "python",
   "pygments_lexer": "ipython3",
   "version": "3.10.13"
  }
 },
 "nbformat": 4,
 "nbformat_minor": 4
}
